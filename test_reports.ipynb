{
 "cells": [
  {
   "attachments": {},
   "cell_type": "markdown",
   "metadata": {},
   "source": [
    "# Test reports in Markdown"
   ]
  },
  {
   "cell_type": "code",
   "execution_count": 1,
   "metadata": {},
   "outputs": [],
   "source": [
    "import numpy as np\n",
    "import pandas as pd\n",
    "from jinja2 import Template"
   ]
  },
  {
   "cell_type": "code",
   "execution_count": 2,
   "metadata": {},
   "outputs": [],
   "source": [
    "def open_rep(file_name='README_template.md'):\n",
    "    with open(file_name,'r') as f:\n",
    "        rep = f.readlines()\n",
    "#         rep = ''.join(rep)\n",
    "        return rep\n",
    "    \n",
    "def make_report(template, report):\n",
    "#     report = json.loads(report)\n",
    "    t = Template(''.join(template))\n",
    "    readme_rendered = t.render(**report)\n",
    "    return readme_rendered"
   ]
  },
  {
   "cell_type": "code",
   "execution_count": 3,
   "metadata": {},
   "outputs": [
    {
     "data": {
      "text/html": [
       "<div>\n",
       "<style scoped>\n",
       "    .dataframe tbody tr th:only-of-type {\n",
       "        vertical-align: middle;\n",
       "    }\n",
       "\n",
       "    .dataframe tbody tr th {\n",
       "        vertical-align: top;\n",
       "    }\n",
       "\n",
       "    .dataframe thead th {\n",
       "        text-align: right;\n",
       "    }\n",
       "</style>\n",
       "<table border=\"1\" class=\"dataframe\">\n",
       "  <thead>\n",
       "    <tr style=\"text-align: right;\">\n",
       "      <th></th>\n",
       "      <th>Feature1</th>\n",
       "      <th>Feature2</th>\n",
       "      <th>Target</th>\n",
       "    </tr>\n",
       "  </thead>\n",
       "  <tbody>\n",
       "    <tr>\n",
       "      <th>0</th>\n",
       "      <td>0.496714</td>\n",
       "      <td>0.417411</td>\n",
       "      <td>1</td>\n",
       "    </tr>\n",
       "    <tr>\n",
       "      <th>1</th>\n",
       "      <td>-0.138264</td>\n",
       "      <td>0.222108</td>\n",
       "      <td>0</td>\n",
       "    </tr>\n",
       "    <tr>\n",
       "      <th>2</th>\n",
       "      <td>0.647689</td>\n",
       "      <td>0.119865</td>\n",
       "      <td>1</td>\n",
       "    </tr>\n",
       "    <tr>\n",
       "      <th>3</th>\n",
       "      <td>1.523030</td>\n",
       "      <td>0.337615</td>\n",
       "      <td>1</td>\n",
       "    </tr>\n",
       "    <tr>\n",
       "      <th>4</th>\n",
       "      <td>-0.234153</td>\n",
       "      <td>0.942910</td>\n",
       "      <td>0</td>\n",
       "    </tr>\n",
       "  </tbody>\n",
       "</table>\n",
       "</div>"
      ],
      "text/plain": [
       "   Feature1  Feature2  Target\n",
       "0  0.496714  0.417411       1\n",
       "1 -0.138264  0.222108       0\n",
       "2  0.647689  0.119865       1\n",
       "3  1.523030  0.337615       1\n",
       "4 -0.234153  0.942910       0"
      ]
     },
     "execution_count": 3,
     "metadata": {},
     "output_type": "execute_result"
    }
   ],
   "source": [
    "\n",
    "# Generate dataset\n",
    "np.random.seed(42)\n",
    "num_rows = 100\n",
    "\n",
    "feature1 = np.random.normal(0, 1, num_rows)\n",
    "feature2 = np.random.uniform(0, 1, num_rows)\n",
    "target = np.where((2*feature1 + 0.5*feature2) > 1, 1, 0)\n",
    "\n",
    "# Create a DataFrame to store the dataset\n",
    "df = pd.DataFrame({\n",
    "    'Feature1': feature1,\n",
    "    'Feature2': feature2,\n",
    "    'Target': target\n",
    "})\n",
    "\n",
    "# Display the first few rows of the dataset\n",
    "df.head()"
   ]
  },
  {
   "cell_type": "code",
   "execution_count": 5,
   "metadata": {},
   "outputs": [
    {
     "name": "stdout",
     "output_type": "stream",
     "text": [
      "\u001b[34mApplications\u001b[m\u001b[m \u001b[34mUsers\u001b[m\u001b[m        \u001b[34mcores\u001b[m\u001b[m        \u001b[35mhome\u001b[m\u001b[m         \u001b[34msbin\u001b[m\u001b[m         \u001b[35mvar\u001b[m\u001b[m\n",
      "\u001b[34mLibrary\u001b[m\u001b[m      \u001b[34mVolumes\u001b[m\u001b[m      \u001b[34mdev\u001b[m\u001b[m          \u001b[34mopt\u001b[m\u001b[m          \u001b[35mtmp\u001b[m\u001b[m\n",
      "\u001b[34mSystem\u001b[m\u001b[m       \u001b[34mbin\u001b[m\u001b[m          \u001b[35metc\u001b[m\u001b[m          \u001b[34mprivate\u001b[m\u001b[m      \u001b[34musr\u001b[m\u001b[m\n"
     ]
    }
   ],
   "source": [
    "!ls"
   ]
  },
  {
   "cell_type": "code",
   "execution_count": null,
   "metadata": {},
   "outputs": [],
   "source": []
  }
 ],
 "metadata": {
  "kernelspec": {
   "display_name": "Python 3",
   "language": "python",
   "name": "python3"
  },
  "language_info": {
   "codemirror_mode": {
    "name": "ipython",
    "version": 3
   },
   "file_extension": ".py",
   "mimetype": "text/x-python",
   "name": "python",
   "nbconvert_exporter": "python",
   "pygments_lexer": "ipython3",
   "version": "3.9.6"
  },
  "orig_nbformat": 4
 },
 "nbformat": 4,
 "nbformat_minor": 2
}
